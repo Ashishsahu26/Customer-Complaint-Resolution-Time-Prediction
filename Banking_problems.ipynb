{
 "cells": [
  {
   "cell_type": "code",
   "execution_count": 1,
   "id": "6c14b1b3-8562-4efa-ab37-8facb214d226",
   "metadata": {},
   "outputs": [],
   "source": [
    "import pandas as pd\n",
    "import numpy as np"
   ]
  },
  {
   "cell_type": "code",
   "execution_count": 2,
   "id": "3451a174-0e7d-4d9f-915a-f0913499930d",
   "metadata": {},
   "outputs": [
    {
     "name": "stderr",
     "output_type": "stream",
     "text": [
      "C:\\Users\\my pc\\AppData\\Local\\Temp\\ipykernel_9048\\3101122989.py:3: DtypeWarning: Columns (0,1,2,3,4,5,6,7,8,9,10,11,12,13,14,15,16) have mixed types. Specify dtype option on import or set low_memory=False.\n",
      "  df = pd.read_csv(\"consumer_complaints_response.csv\")\n"
     ]
    }
   ],
   "source": [
    "#load data\n",
    "\n",
    "df = pd.read_csv(\"consumer_complaints_response.csv\")"
   ]
  },
  {
   "cell_type": "code",
   "execution_count": 3,
   "id": "12529c9a-acf5-4153-bbbd-98aa385257a0",
   "metadata": {},
   "outputs": [
    {
     "data": {
      "text/html": [
       "<div>\n",
       "<style scoped>\n",
       "    .dataframe tbody tr th:only-of-type {\n",
       "        vertical-align: middle;\n",
       "    }\n",
       "\n",
       "    .dataframe tbody tr th {\n",
       "        vertical-align: top;\n",
       "    }\n",
       "\n",
       "    .dataframe thead th {\n",
       "        text-align: right;\n",
       "    }\n",
       "</style>\n",
       "<table border=\"1\" class=\"dataframe\">\n",
       "  <thead>\n",
       "    <tr style=\"text-align: right;\">\n",
       "      <th></th>\n",
       "      <th>date_received</th>\n",
       "      <th>product</th>\n",
       "      <th>sub_product</th>\n",
       "      <th>issue</th>\n",
       "      <th>sub_issue</th>\n",
       "      <th>consumer_complaint_narrative</th>\n",
       "      <th>company_public_response</th>\n",
       "      <th>company</th>\n",
       "      <th>state</th>\n",
       "      <th>zipcode</th>\n",
       "      <th>tags</th>\n",
       "      <th>consumer_consent_provided</th>\n",
       "      <th>submitted_via</th>\n",
       "      <th>date_sent_to_company</th>\n",
       "      <th>company_response_to_consumer</th>\n",
       "      <th>timely_response</th>\n",
       "      <th>consumer_disputed?</th>\n",
       "      <th>complaint_id</th>\n",
       "    </tr>\n",
       "  </thead>\n",
       "  <tbody>\n",
       "    <tr>\n",
       "      <th>0</th>\n",
       "      <td>8/30/2013</td>\n",
       "      <td>Mortgage</td>\n",
       "      <td>Other mortgage</td>\n",
       "      <td>Loan modification,collection,foreclosure</td>\n",
       "      <td>NaN</td>\n",
       "      <td>NaN</td>\n",
       "      <td>NaN</td>\n",
       "      <td>U.S. Bancorp</td>\n",
       "      <td>CA</td>\n",
       "      <td>95993</td>\n",
       "      <td>NaN</td>\n",
       "      <td>NaN</td>\n",
       "      <td>Referral</td>\n",
       "      <td>9/3/2013</td>\n",
       "      <td>Closed with explanation</td>\n",
       "      <td>Yes</td>\n",
       "      <td>Yes</td>\n",
       "      <td>511074.0</td>\n",
       "    </tr>\n",
       "    <tr>\n",
       "      <th>1</th>\n",
       "      <td>8/30/2013</td>\n",
       "      <td>Mortgage</td>\n",
       "      <td>Other mortgage</td>\n",
       "      <td>Loan servicing, payments, escrow account</td>\n",
       "      <td>NaN</td>\n",
       "      <td>NaN</td>\n",
       "      <td>NaN</td>\n",
       "      <td>Wells Fargo &amp; Company</td>\n",
       "      <td>CA</td>\n",
       "      <td>91104</td>\n",
       "      <td>NaN</td>\n",
       "      <td>NaN</td>\n",
       "      <td>Referral</td>\n",
       "      <td>9/3/2013</td>\n",
       "      <td>Closed with explanation</td>\n",
       "      <td>Yes</td>\n",
       "      <td>Yes</td>\n",
       "      <td>511080.0</td>\n",
       "    </tr>\n",
       "    <tr>\n",
       "      <th>2</th>\n",
       "      <td>8/30/2013</td>\n",
       "      <td>Credit reporting</td>\n",
       "      <td>NaN</td>\n",
       "      <td>Incorrect information on credit report</td>\n",
       "      <td>Account status</td>\n",
       "      <td>NaN</td>\n",
       "      <td>NaN</td>\n",
       "      <td>Wells Fargo &amp; Company</td>\n",
       "      <td>NY</td>\n",
       "      <td>11764</td>\n",
       "      <td>NaN</td>\n",
       "      <td>NaN</td>\n",
       "      <td>Postal mail</td>\n",
       "      <td>9/18/2013</td>\n",
       "      <td>Closed with explanation</td>\n",
       "      <td>Yes</td>\n",
       "      <td>No</td>\n",
       "      <td>510473.0</td>\n",
       "    </tr>\n",
       "    <tr>\n",
       "      <th>3</th>\n",
       "      <td>8/30/2013</td>\n",
       "      <td>Student loan</td>\n",
       "      <td>Non-federal student loan</td>\n",
       "      <td>Repaying your loan</td>\n",
       "      <td>Repaying your loan</td>\n",
       "      <td>NaN</td>\n",
       "      <td>NaN</td>\n",
       "      <td>Navient Solutions, Inc.</td>\n",
       "      <td>MD</td>\n",
       "      <td>21402</td>\n",
       "      <td>NaN</td>\n",
       "      <td>NaN</td>\n",
       "      <td>Email</td>\n",
       "      <td>8/30/2013</td>\n",
       "      <td>Closed with explanation</td>\n",
       "      <td>Yes</td>\n",
       "      <td>Yes</td>\n",
       "      <td>510326.0</td>\n",
       "    </tr>\n",
       "    <tr>\n",
       "      <th>4</th>\n",
       "      <td>8/30/2013</td>\n",
       "      <td>Debt collection</td>\n",
       "      <td>Credit card</td>\n",
       "      <td>False statements or representation</td>\n",
       "      <td>Attempted to collect wrong amount</td>\n",
       "      <td>NaN</td>\n",
       "      <td>NaN</td>\n",
       "      <td>Resurgent Capital Services L.P.</td>\n",
       "      <td>GA</td>\n",
       "      <td>30106</td>\n",
       "      <td>NaN</td>\n",
       "      <td>NaN</td>\n",
       "      <td>Web</td>\n",
       "      <td>8/30/2013</td>\n",
       "      <td>Closed with explanation</td>\n",
       "      <td>Yes</td>\n",
       "      <td>Yes</td>\n",
       "      <td>511067.0</td>\n",
       "    </tr>\n",
       "  </tbody>\n",
       "</table>\n",
       "</div>"
      ],
      "text/plain": [
       "  date_received           product               sub_product  \\\n",
       "0     8/30/2013          Mortgage            Other mortgage   \n",
       "1     8/30/2013          Mortgage            Other mortgage   \n",
       "2     8/30/2013  Credit reporting                       NaN   \n",
       "3     8/30/2013      Student loan  Non-federal student loan   \n",
       "4     8/30/2013   Debt collection               Credit card   \n",
       "\n",
       "                                      issue  \\\n",
       "0  Loan modification,collection,foreclosure   \n",
       "1  Loan servicing, payments, escrow account   \n",
       "2    Incorrect information on credit report   \n",
       "3                        Repaying your loan   \n",
       "4        False statements or representation   \n",
       "\n",
       "                           sub_issue consumer_complaint_narrative  \\\n",
       "0                                NaN                          NaN   \n",
       "1                                NaN                          NaN   \n",
       "2                     Account status                          NaN   \n",
       "3                 Repaying your loan                          NaN   \n",
       "4  Attempted to collect wrong amount                          NaN   \n",
       "\n",
       "  company_public_response                          company state zipcode tags  \\\n",
       "0                     NaN                     U.S. Bancorp    CA   95993  NaN   \n",
       "1                     NaN            Wells Fargo & Company    CA   91104  NaN   \n",
       "2                     NaN            Wells Fargo & Company    NY   11764  NaN   \n",
       "3                     NaN          Navient Solutions, Inc.    MD   21402  NaN   \n",
       "4                     NaN  Resurgent Capital Services L.P.    GA   30106  NaN   \n",
       "\n",
       "  consumer_consent_provided submitted_via date_sent_to_company  \\\n",
       "0                       NaN      Referral             9/3/2013   \n",
       "1                       NaN      Referral             9/3/2013   \n",
       "2                       NaN   Postal mail            9/18/2013   \n",
       "3                       NaN         Email            8/30/2013   \n",
       "4                       NaN           Web            8/30/2013   \n",
       "\n",
       "  company_response_to_consumer timely_response consumer_disputed?  \\\n",
       "0      Closed with explanation             Yes                Yes   \n",
       "1      Closed with explanation             Yes                Yes   \n",
       "2      Closed with explanation             Yes                 No   \n",
       "3      Closed with explanation             Yes                Yes   \n",
       "4      Closed with explanation             Yes                Yes   \n",
       "\n",
       "   complaint_id  \n",
       "0      511074.0  \n",
       "1      511080.0  \n",
       "2      510473.0  \n",
       "3      510326.0  \n",
       "4      511067.0  "
      ]
     },
     "execution_count": 3,
     "metadata": {},
     "output_type": "execute_result"
    }
   ],
   "source": [
    "df.head()"
   ]
  },
  {
   "cell_type": "code",
   "execution_count": 4,
   "id": "4b1eca4f-1963-4422-82d9-9ac73d719f4a",
   "metadata": {},
   "outputs": [
    {
     "name": "stdout",
     "output_type": "stream",
     "text": [
      "<class 'pandas.core.frame.DataFrame'>\n",
      "RangeIndex: 555957 entries, 0 to 555956\n",
      "Data columns (total 18 columns):\n",
      " #   Column                        Non-Null Count   Dtype  \n",
      "---  ------                        --------------   -----  \n",
      " 0   date_received                 199999 non-null  object \n",
      " 1   product                       199999 non-null  object \n",
      " 2   sub_product                   144059 non-null  object \n",
      " 3   issue                         199999 non-null  object \n",
      " 4   sub_issue                     96010 non-null   object \n",
      " 5   consumer_complaint_narrative  550 non-null     object \n",
      " 6   company_public_response       1145 non-null    object \n",
      " 7   company                       199999 non-null  object \n",
      " 8   state                         198967 non-null  object \n",
      " 9   zipcode                       199342 non-null  object \n",
      " 10  tags                          29321 non-null   object \n",
      " 11  consumer_consent_provided     1367 non-null    object \n",
      " 12  submitted_via                 199999 non-null  object \n",
      " 13  date_sent_to_company          199999 non-null  object \n",
      " 14  company_response_to_consumer  199999 non-null  object \n",
      " 15  timely_response               199999 non-null  object \n",
      " 16  consumer_disputed?            199999 non-null  object \n",
      " 17  complaint_id                  199999 non-null  float64\n",
      "dtypes: float64(1), object(17)\n",
      "memory usage: 76.3+ MB\n",
      "None\n"
     ]
    }
   ],
   "source": [
    "print(df.info())         "
   ]
  },
  {
   "cell_type": "code",
   "execution_count": 5,
   "id": "44fee274-9c66-4ebb-af4c-2a3a19eb2c40",
   "metadata": {},
   "outputs": [
    {
     "data": {
      "text/plain": [
       "Index(['date_received', 'product', 'sub_product', 'issue', 'sub_issue',\n",
       "       'consumer_complaint_narrative', 'company_public_response', 'company',\n",
       "       'state', 'zipcode', 'tags', 'consumer_consent_provided',\n",
       "       'submitted_via', 'date_sent_to_company', 'company_response_to_consumer',\n",
       "       'timely_response', 'consumer_disputed?', 'complaint_id'],\n",
       "      dtype='object')"
      ]
     },
     "execution_count": 5,
     "metadata": {},
     "output_type": "execute_result"
    }
   ],
   "source": [
    "df.columns"
   ]
  },
  {
   "cell_type": "code",
   "execution_count": 6,
   "id": "412481c1-1a8c-4e6c-a37d-76549676f8f4",
   "metadata": {},
   "outputs": [
    {
     "name": "stdout",
     "output_type": "stream",
     "text": [
      "<bound method Series.unique of 0         NaN\n",
      "1         NaN\n",
      "2         NaN\n",
      "3         NaN\n",
      "4         NaN\n",
      "         ... \n",
      "555952    NaN\n",
      "555953    NaN\n",
      "555954    NaN\n",
      "555955    NaN\n",
      "555956    NaN\n",
      "Name: consumer_complaint_narrative, Length: 555957, dtype: object>\n"
     ]
    }
   ],
   "source": [
    "issues = df['consumer_complaint_narrative'].unique       #unique() gives us array of all rows\n",
    "print(issues)"
   ]
  },
  {
   "cell_type": "code",
   "execution_count": 7,
   "id": "80fa3527-8c33-44ee-9fcf-f9bf306b229c",
   "metadata": {},
   "outputs": [
    {
     "name": "stdout",
     "output_type": "stream",
     "text": [
      "546\n"
     ]
    }
   ],
   "source": [
    "unique_issues_count = df['consumer_complaint_narrative'].nunique()\n",
    "print(unique_issues_count)"
   ]
  },
  {
   "cell_type": "code",
   "execution_count": 8,
   "id": "c45bf119-6517-4a28-9d97-4af4c63b5bc3",
   "metadata": {},
   "outputs": [],
   "source": [
    "# 546 kind of different issues are there faced by the users"
   ]
  },
  {
   "cell_type": "code",
   "execution_count": 9,
   "id": "9137a8d0-f415-4809-8acb-79296c075ebb",
   "metadata": {},
   "outputs": [
    {
     "name": "stdout",
     "output_type": "stream",
     "text": [
      "consumer_complaint_narrative\n",
      "This company continues to report on my credit report after I sent them a letter telling them that this account was not mine and I have no idea what it is or who it belongs to! \\n\\nI asked for proof of a signed contract, I asked for a license to collect in my state, I asked for copies of all information referenced for this debt and still to date, I have not received anything but harassment from this company! \\n\\nTHIS IS NOT MY DEBT! \\n                                                                                                                                                                                                                                                                                                                                                                                                                                                                                                                                                                                                                                                                                                                                                                                                                                                                                                                                                                                                                                                                                                                                                                                                                                                                                                                                                                                                                                                                                                                                                                                                                                                                                                                                                                                                                                                                                                                                                                                                                                                                                                                                                                                                                                                                                                                                                                                                                                                                                                                                                                                                                                                                                                                                                                                                                                                                                                                                                                                                                                                                                                                                                                                                                                                    3\n",
      "This company continues to report on my credit report after I sent them a letter telling them that this account was not mine and I have no idea what it is or who it belongs to! \\n\\nI asked for proof of a signed contract, I asked for a license to collect in my state, I asked for copies of all information referenced for this debt and still to date, I have not received anything but harassment from this company! \\n\\nTHIS IS NOT MY DEBT! \\n\\nI WANT THIS ACCOUNT REMOVED FROM MY CREDIT REPORT AND THIS COMPANY TO STOP CONTACTING ME IMMEDIATELY! \\n                                                                                                                                                                                                                                                                                                                                                                                                                                                                                                                                                                                                                                                                                                                                                                                                                                                                                                                                                                                                                                                                                                                                                                                                                                                                                                                                                                                                                                                                                                                                                                                                                                                                                                                                                                                                                                                                                                                                                                                                                                                                                                                                                                                                                                                                                                                                                                                                                                                                                                                                                                                                                                                                                                                                                                                                                                                                                                                                                                                                                                                                                                                                          2\n",
      "This company continues to report on my credit report after I sent them a letter telling them that this account was not mine and I have no idea what it is or who it belongs to! \\n\\nI asked for proof of a signed contract, I asked for a license to collect in my state, I asked for copies of all information referenced for this debt and still to date, I have not received anything but harassment from this company! \\n                                                                                                                                                                                                                                                                                                                                                                                                                                                                                                                                                                                                                                                                                                                                                                                                                                                                                                                                                                                                                                                                                                                                                                                                                                                                                                                                                                                                                                                                                                                                                                                                                                                                                                                                                                                                                                                                                                                                                                                                                                                                                                                                                                                                                                                                                                                                                                                                                                                                                                                                                                                                                                                                                                                                                                                                                                                                                                                                                                                                                                                                                                                                                                                                                                                                             2\n",
      "In XX/XX/XXXX my wages that I earned at my job decreased by almost half, by XX/XX/XXXX I knew I was in trouble with my home loan. I began contacting WFB whom my home loan is with, for assitance and options. \\nIn early XX/XX/XXXX I began the Loan Modification process with Wells Fargo Bank. I was told that they would not assist me with anything financial on my home loan until I fell 90 days behind, though at the time I started to inquire for assistance from WFB I was only a few weeks behind. So, I began working with a program called XXXX. They approved me for a variety of assistence and reached out to Wells Fargo Bank to determine what they could assist with. Wells Fargo then turned down the assistance from XXXX and finally offered to do a Loan Modification for me. The outcome was totally unknow about what I would be offered in the end by WFB for assistance. Wells Fargo lost my paperwork twice during this process, so it took 2 months from the time I started to the time my paperwork began to be processed for some kind of approval. In XX/XX/XXXX I was in a trial period of 3 months of payments based on a slightly modified amount. Roughly {$75.00} less than what I was paying on my original payment. However, my caseworker with WFB, failed to tell me that since the payments during this time were not the full amount of the original mortgage payment so they were not applied to the loan. I discovered this in XX/XX/XXXX when I was told by a creditor with XXXX that she could n't restore my line of credit because of something to do with my mortgage. I then called and found this out. My caseworker at WFB then told me it was n't her responsibility to tell me this information. I told her that she could have told me that if I could come up with the remaining amount of {$75.00} then the payments would be applied. Instead, she chose to withhold this information and damage my credit even further. Now we are into 5 months ( including the 90 days WFB told me I had to fall behind until they would help me ) without an applied payment to my home loan, going on 6 months. \\nMore paperwork was lost in XXXX as the modification was being finalized and my loan modification did n't go through until XX/XX/XXXX. I spoke to a lawyer that is working on a class-action lawsuit against WFB for people in a similar situation and said this paper loss is typical. \\nWells Fargo did not reduce the interest rate, but they did reduce the payment by less than {$100.00} and the payments I was behind went back into the loan. \\nMy property taxes also fell behind in my escrow account at this time because there was no payment on the loan. So, I am behind on my property taxes, have damaged credit, and and I am not in any better payment situation than I was. \\nThey can not give me a reason on why they rejected XXXX assistance. I was originally told they were not an approved agency but on a later phone call to Wells Fargo Bank I was told that they work with that program often and the WFB employee could not understand why they would reject the help. I also spoke with XXXX and they said that Wells Fargo works with this program all the time and could n't understand why they would do this. \\nI feel that I have been taken advantage of by Wells Fargo and would like to pursue legal action against them based on negligence. \\nAlthough my payments are back on track I am not making much more money now than I was before so it is only a matter of time before something like this happens again if something unforeseen happens to my life that affects my finances. \\n    1\n",
      "I disputed a collection account from XXXX XXXX XXXX because the information was unfamiliar therefore inaccurate. I submitted a dispute via XXXX mail and I received an email from Equifax stating that the account had been \" verified. '' None of the original creditors info was included as far as dates payments, date of XXXX delinquency, a signed original contract between me and the original creditor, a contract between XXXX XXXX XXXX and the original creditor giving XXXX the rights to collect on this debt. I asked for all these things in my letter and they were not provided from Equifax nor XXXX XXXX XXXX. Attached are the results of there investigation, this does not validate the debt \\n                                                                                                                                                                                                                                                                                                                                                                                                                                                                                                                                                                                                                                                                                                                                                                                                                                                                                                                                                                                                                                                                                                                                                                                                                                                                                                                                                                                                                                                                                                                                                                                                                                                                                                                                                                                                                                                                                                                                                                                                                                                                                                                                                                                                                                                                                                                                                                                                                                                                                                                                                                                                                                                                                                                                                                                                                                                                                                                                                                                    1\n",
      "                                                                                                                                                                                                                                                                                                                                                                                                                                                                                                                                                                                                                                                                                                                                                                                                                                                                                                                                                                                                                                                                                                                                                                                                                                                                                                                                                                                                                                                                                                                                                                                                                                                                                                                                                                                                                                                                                                                                                                                                                                                                                                                                                                                                                                                                                                                                                                                                                                                                                                                                                                                                                                                                                                                                                                                                                                                                                                                                                                                                                                                                                                                                                                                                                                                                                                                                                                                                                                                                                                                                                                                                                                                                                                         ..\n",
      "I opened up an account at Bank of America in XXXX 2013. That same day I asked about getting a {$100.00} loan to the bank teller. She takes me outside to the ATM machine and pressed the loan button and requested {$200.00}. I was trusting that she knew what she was doing, but a couple days later I found out my account was closed and I could n't use any bank anymore. You can see on camera that she was the one with me requesting the loan and she is shown on camera pressing the buttons a couple of times. I have no record, no fraud, I dont even owe any banks and I 've been with about XXXX diffrent banks before. \\n                                                                                                                                                                                                                                                                                                                                                                                                                                                                                                                                                                                                                                                                                                                                                                                                                                                                                                                                                                                                                                                                                                                                                                                                                                                                                                                                                                                                                                                                                                                                                                                                                                                                                                                                                                                                                                                                                                                                                                                                                                                                                                                                                                                                                                                                                                                                                                                                                                                                                                                                                                                                                                                                                                                                                                                                                                                                                                                                                                                                                                                                   1\n",
      "On XXXX XXXX, XXXX I received a call at work from XXXX XXXX representing United Recovery Systems XXXX XXXX in regards to my father 's XXXX XXXX account ; he is the primary cardholder along with my mother. This was after XXXX XXXX took the monthly payment from my parents joint account which I discovered later that evening. XXXX XXXX proceeded to harass and demand that I do a check over the phone for the full amount of approximately {$3900.00}. I told her I would call her later because this seemed out of the blue and how in the world did my work number get involved if I am not the primary account holder. My parents opened the XXXX XXXX account back in XXXX. They have had the same home phone number since XXXX only now they have voicemail there were no messages or letters received at the home address that mentioned there was a problem with the account that was recently closed due to pressing and serious XXXX issues that caused late payments but from XXXX until now my parents always paid their bills on time. I calmly refused to discuss the account with XXXX XXXX and told her I would call back before XXXX that evening which I did but she apparently was unavailable so I spoke to another rep and told her that XXXX XXXX already deducted the past due amount ; furthermore I told the rep not to call my job ever again otherwise I plan to take this to another level. I do n't have the address of the collection agency because I never received anything in the mail stating that XXXX XXXX turned over the account to them. I did ask the representative that I spoke to later that evening on XXXX XXXX to send me a copy of the letter they allegedly sent. \\n                                                                                                                                                                                                                                                                                                                                                                                                                                                                                                                                                                                                                                                                                                                                                                                                                                                                                                                                                                                                                                                                                                                                                                                                                                                                                                                                                                                                                                                                                                                                                                                                                                                                                                                                                                                                                                                                                                                                                                              1\n",
      "Augusta Collection Agency is vicious. I contacted them to pay once I found out the bill existed ( someone else actually used my credit card, but I wanted to pay it so it would not hurt my credit ). Augusta Collection Agency messed up the information I gave them to pay the bill. So, they called me, but my friend answered. They discussed the debt with this third party. Then when I called and complained the woman was rude to me. I asked for the manager and he got on the phone and was worse. He yelled, was profane and threatened to refuse to accept my payment and send the bill to collections, if I did not apologize to them. He was lying to me, because I did not know at the time it had already been reported on my credit. So, I had to apologize to them for them to accept my payment, even though they were in the wrong. They are horrible, XXXX people. \\n                                                                                                                                                                                                                                                                                                                                                                                                                                                                                                                                                                                                                                                                                                                                                                                                                                                                                                                                                                                                                                                                                                                                                                                                                                                                                                                                                                                                                                                                                                                                                                                                                                                                                                                                                                                                                                                                                                                                                                                                                                                                                                                                                                                                                                                                                                                                                                                                                                                                                                                                                                                                                                                                                                                                                                                                                1\n",
      "The school is XXXX XXXX, I am the parent co signer on this loan ( although I do n't remember signing on it ) the loan is past due and XXXX the loan company is requiring that over XXXX a month be paid we can not afford this kind of monthly payment and a supervisor ( we have her name and ID number. ) agreed we could pay XXXX a month. We sent in the payment via the automated line as agreed. now XXXX states that this agreement was never made. To make it worse they have no record of the payment being made. we have the confirmation number for this payment. we have no problem paying but for the amount agreed upon. \\n                                                                                                                                                                                                                                                                                                                                                                                                                                                                                                                                                                                                                                                                                                                                                                                                                                                                                                                                                                                                                                                                                                                                                                                                                                                                                                                                                                                                                                                                                                                                                                                                                                                                                                                                                                                                                                                                                                                                                                                                                                                                                                                                                                                                                                                                                                                                                                                                                                                                                                                                                                                                                                                                                                                                                                                                                                                                                                                                                                                                                                                                 1\n",
      "I had credit cards with XXXX and XXXX XXXX XXXX. XXXX agreed to take a settlement, but agreed to remove any negative info off my report if I paid the settlement. I paid, but they left the late pays and settlement status. I felt they lied to get me to pay and now they wo n't discuss it. XXXX XXXX XXXX helped me by setting up a payment plan. They advised everything would report Paid as Agreed and no late pays. However, I still see several late pays on all XXXX credit reports. I 've since paid off B of A in full. \\n                                                                                                                                                                                                                                                                                                                                                                                                                                                                                                                                                                                                                                                                                                                                                                                                                                                                                                                                                                                                                                                                                                                                                                                                                                                                                                                                                                                                                                                                                                                                                                                                                                                                                                                                                                                                                                                                                                                                                                                                                                                                                                                                                                                                                                                                                                                                                                                                                                                                                                                                                                                                                                                                                                                                                                                                                                                                                                                                                                                                                                                                                                                                                                    1\n",
      "Name: count, Length: 546, dtype: int64\n"
     ]
    }
   ],
   "source": [
    "category_wise_count = df['consumer_complaint_narrative'].value_counts()\n",
    "print(category_wise_count)"
   ]
  },
  {
   "cell_type": "code",
   "execution_count": 10,
   "id": "01bf7b42-14ac-4d5f-ae52-929f2a3e18e4",
   "metadata": {},
   "outputs": [
    {
     "name": "stdout",
     "output_type": "stream",
     "text": [
      "date_received                   555957\n",
      "product                         555957\n",
      "sub_product                     555957\n",
      "issue                           555957\n",
      "sub_issue                       555957\n",
      "consumer_complaint_narrative    555957\n",
      "company_public_response         555957\n",
      "company                         555957\n",
      "state                           555957\n",
      "zipcode                         555957\n",
      "tags                            555957\n",
      "consumer_consent_provided       555957\n",
      "submitted_via                   555957\n",
      "date_sent_to_company            555957\n",
      "company_response_to_consumer    555957\n",
      "timely_response                 555957\n",
      "consumer_disputed?              555957\n",
      "complaint_id                    555957\n",
      "dtype: int64\n"
     ]
    }
   ],
   "source": [
    "print(df.isnull().count())"
   ]
  },
  {
   "cell_type": "code",
   "execution_count": 11,
   "id": "fbf4b6b2-cfab-4f02-be33-c00d063abdf5",
   "metadata": {},
   "outputs": [],
   "source": [
    "# Import libraries\n",
    "import re\n",
    "import nltk\n",
    "from sklearn.feature_extraction.text import TfidfVectorizer\n",
    "from sklearn.linear_model import LinearRegression\n",
    "from sklearn.model_selection import train_test_split\n",
    "from sklearn.metrics import mean_absolute_error, r2_score\n",
    "\n"
   ]
  },
  {
   "cell_type": "code",
   "execution_count": 12,
   "id": "7e8d869f-d0bf-4200-910d-f449d04d1959",
   "metadata": {},
   "outputs": [
    {
     "name": "stderr",
     "output_type": "stream",
     "text": [
      "[nltk_data] Downloading package stopwords to C:\\Users\\my\n",
      "[nltk_data]     pc\\AppData\\Roaming\\nltk_data...\n",
      "[nltk_data]   Package stopwords is already up-to-date!\n"
     ]
    }
   ],
   "source": [
    "# Download stopwords (run only once)\n",
    "nltk.download('stopwords')\n",
    "from nltk.corpus import stopwords\n",
    "\n"
   ]
  },
  {
   "cell_type": "code",
   "execution_count": 13,
   "id": "a43d6dcb-3e31-4ccc-9564-92d83e2a4926",
   "metadata": {},
   "outputs": [
    {
     "name": "stdout",
     "output_type": "stream",
     "text": [
      "Cleaned text sample:\n",
      "190126    xxxx claimed owe xxxx years despite proof paym...\n",
      "190135    due inconsistencies amount owed told bank amou...\n",
      "190155    xxxxxxxx wages earned job decreased almost hal...\n",
      "190207    open current mortgage chase bank xxxx chase re...\n",
      "190208    xxxx submitted xxxxxxxx time submitted complai...\n",
      "Name: clean_text, dtype: object\n",
      "\n",
      "Model Performance:\n",
      "Mean Absolute Error: 95.85 hours\n",
      "R² Score: -85.48\n"
     ]
    }
   ],
   "source": [
    "\n",
    "# Step 3: Select useful columns\n",
    "df = df[[\"consumer_complaint_narrative\", \"timely_response\"]].dropna()\n",
    "\n",
    "# Step 4: Create synthetic resolution time (target variable)\n",
    "# If company gave timely response → assume 24–72 hours\n",
    "# If not timely → assume 72–144 hours\n",
    "df[\"resolution_time\"] = np.where(\n",
    "    df[\"timely_response\"] == \"Yes\",\n",
    "    np.random.randint(24, 48, df.shape[0]),\n",
    "    np.random.randint(72, 144, df.shape[0])\n",
    ")\n",
    "\n",
    "# Step 5: Clean text\n",
    "stop_words = set(stopwords.words(\"english\"))\n",
    "\n",
    "def clean_text(text):\n",
    "    text = text.lower()                              # lowercase\n",
    "    text = re.sub(r'[^a-z\\s]', '', text)             # remove special chars/numbers\n",
    "    words = [w for w in text.split() if w not in stop_words]\n",
    "    return \" \".join(words)\n",
    "\n",
    "df[\"clean_text\"] = df[\"consumer_complaint_narrative\"].apply(clean_text)\n",
    "\n",
    "print(\"Cleaned text sample:\")\n",
    "print(df[\"clean_text\"].head())\n",
    "\n",
    "# Step 6: Convert text to numerical features (TF-IDF)\n",
    "vectorizer = TfidfVectorizer(max_features=500)  # limit to top 500 words for speed\n",
    "X = vectorizer.fit_transform(df[\"clean_text\"])\n",
    "y = df[\"resolution_time\"]\n",
    "\n",
    "# Step 7: Split into training and testing data\n",
    "X_train, X_test, y_train, y_test = train_test_split(X, y, test_size=0.25, random_state=42)\n",
    "\n",
    "# Step 8: Train regression model\n",
    "model = LinearRegression()\n",
    "model.fit(X_train, y_train)\n",
    "\n",
    "# Step 9: Make predictions\n",
    "y_pred = model.predict(X_test)\n",
    "\n",
    "# Step 10: Evaluate performance\n",
    "mae = mean_absolute_error(y_test, y_pred)\n",
    "r2 = r2_score(y_test, y_pred)\n",
    "\n",
    "print(f\"\\nModel Performance:\")\n",
    "print(f\"Mean Absolute Error: {mae:.2f} hours\")\n",
    "print(f\"R² Score: {r2:.2f}\")\n",
    "\n",
    "\n",
    "\n",
    "\n"
   ]
  },
  {
   "cell_type": "code",
   "execution_count": 14,
   "id": "808f5c34-854f-4f01-979b-71de218dacb9",
   "metadata": {},
   "outputs": [
    {
     "name": "stdout",
     "output_type": "stream",
     "text": [
      "\n",
      "Sample Predictions with Complaint Text:\n",
      "\n",
      "                                      Complaint Text  Actual (hrs)  \\\n",
      "0  contacted select portfolio mortgage servicing ...            36   \n",
      "1  started dealing citi mortgage back xxxxxxxx mo...            47   \n",
      "2  debt collector portfolio recovery phone number...            29   \n",
      "3  nationstar denied loan modification property p...            41   \n",
      "4  originally owed xxxx xxxx credit card point re...            43   \n",
      "5  received letter xxxx debit card representing r...            29   \n",
      "6  mortgaged home xxxx xxxxxxxxxxxx xxxx assigned...            41   \n",
      "7  attended xxxx xxxx xxxx xxxx took private loan...            36   \n",
      "8  wife laid xxxx xxxx xxxx modification request ...            42   \n",
      "9  current mortgage chase home finance excellent ...            40   \n",
      "\n",
      "   Predicted (hrs)  \n",
      "0            28.45  \n",
      "1           -81.15  \n",
      "2            57.71  \n",
      "3            36.28  \n",
      "4           275.27  \n",
      "5            -8.35  \n",
      "6            21.17  \n",
      "7           153.54  \n",
      "8           -10.38  \n",
      "9            -5.72  \n"
     ]
    }
   ],
   "source": [
    "comparison = pd.DataFrame({\n",
    "    \"Complaint Text\": df.loc[y_test.index, \"clean_text\"].values[:10],\n",
    "    \"Actual (hrs)\": y_test.values[:10],\n",
    "    \"Predicted (hrs)\": np.round(y_pred[:10], 2)\n",
    "})\n",
    "\n",
    "print(\"\\nSample Predictions with Complaint Text:\\n\")\n",
    "print(comparison)"
   ]
  },
  {
   "cell_type": "code",
   "execution_count": 17,
   "id": "5dcb60d7-b47b-4a73-aa3c-2315ae597c2d",
   "metadata": {},
   "outputs": [
    {
     "name": "stdout",
     "output_type": "stream",
     "text": [
      "\n",
      "--- Write your complaint ---\n"
     ]
    },
    {
     "name": "stdin",
     "output_type": "stream",
     "text": [
      "Enter your complaint description:  This company continues to report on my credit report after I sent them a letter telling them that this account was not mine and I have no idea what it is or who it belongs to! \\n\\nI asked for proof of a signed contract, I asked for a license to collect in my state, I asked for copies of all information referenced for this debt and still to date, I have not received anything but harassment from this company! \\n\\nTHIS IS NOT MY DEBT!\n"
     ]
    },
    {
     "name": "stdout",
     "output_type": "stream",
     "text": [
      "\n",
      "Estimated Resolution Time: 33.37 hours\n"
     ]
    }
   ],
   "source": [
    "#User Input Prediction\n",
    "print(\"\\n--- Write your complaint ---\")\n",
    "user_input = input(\"Enter your complaint description: \")\n",
    "\n",
    "# Clean the input same way as training data\n",
    "def clean_text(text):\n",
    "    text = text.lower()\n",
    "    text = re.sub(r'[^a-z\\s]', '', text)\n",
    "    words = [w for w in text.split() if w not in stop_words]\n",
    "    return \" \".join(words)\n",
    "\n",
    "cleaned_input = clean_text(user_input)\n",
    "\n",
    "# Convert to TF-IDF vector using the same vectorizer\n",
    "input_vector = vectorizer.transform([cleaned_input])\n",
    "\n",
    "# Predict resolution time\n",
    "predicted_time = model.predict(input_vector)[0]\n",
    "\n",
    "print(f\"\\nEstimated Resolution Time: {predicted_time:.2f} hours\")\n"
   ]
  },
  {
   "cell_type": "code",
   "execution_count": null,
   "id": "e3b687d1-2658-41c1-9cb2-b8fc02aeacb5",
   "metadata": {},
   "outputs": [],
   "source": []
  },
  {
   "cell_type": "code",
   "execution_count": null,
   "id": "d6de21af-b174-4685-97ab-ecf94ae8d663",
   "metadata": {},
   "outputs": [],
   "source": []
  }
 ],
 "metadata": {
  "kernelspec": {
   "display_name": "Python [conda env:base] *",
   "language": "python",
   "name": "conda-base-py"
  },
  "language_info": {
   "codemirror_mode": {
    "name": "ipython",
    "version": 3
   },
   "file_extension": ".py",
   "mimetype": "text/x-python",
   "name": "python",
   "nbconvert_exporter": "python",
   "pygments_lexer": "ipython3",
   "version": "3.13.5"
  }
 },
 "nbformat": 4,
 "nbformat_minor": 5
}
